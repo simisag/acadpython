{
 "cells": [
  {
   "cell_type": "code",
   "execution_count": null,
   "metadata": {},
   "outputs": [],
   "source": [
    "'''Q.1 - Consider the below given probabilities: \n",
    "P(A) = 11 / 36\n",
    "P(B) = 6 / 36\n",
    "P(A|B) = 2 / 36\n",
    "Write a function in Python which takes 3 probabilities as argument and outputs the Conditional probability P(B|A).'''"
   ]
  },
  {
   "cell_type": "code",
   "execution_count": 5,
   "metadata": {},
   "outputs": [
    {
     "name": "stdout",
     "output_type": "stream",
     "text": [
      "value of probability P(B/A)= 0.0303030303030303\n"
     ]
    }
   ],
   "source": [
    "def probab(a,b,ab):\n",
    "    ba=b/a*ab\n",
    "    return ba\n",
    "a=11/36\n",
    "b=6/36\n",
    "ab=2/36\n",
    "print(\"value of probability P(B/A)=\",probab(a,b,ab))\n",
    "      \n"
   ]
  },
  {
   "cell_type": "code",
   "execution_count": null,
   "metadata": {},
   "outputs": [],
   "source": [
    "'''Q.2 - Bag I contains 4 white and 6 black balls while another Bag II contains 4 white and 3 black balls.\n",
    "One ball is drawn at random from one of the bags and it is found to be black. \n",
    "Find the probability that it was drawn from Bag I.'''"
   ]
  },
  {
   "cell_type": "code",
   "execution_count": 2,
   "metadata": {},
   "outputs": [
    {
     "name": "stdout",
     "output_type": "stream",
     "text": [
      "Probability of getting a black ball from bag 1 is 0.5833333333333334\n"
     ]
    }
   ],
   "source": [
    "def prob(b1,b2,bball1,bball2):\n",
    "    bb=(b1*bball1)/((b1*bball1)+(b2*bball2))\n",
    "    return bb\n",
    "\n",
    "b1=1/2\n",
    "b2=1/2 \n",
    "bball1=6/10 \n",
    "bball2=3/7\n",
    "print(\"Probability of getting a black ball from bag 1 is\",prob(b1,b2,bball1,bball2))"
   ]
  },
  {
   "cell_type": "code",
   "execution_count": null,
   "metadata": {},
   "outputs": [],
   "source": [
    "'''Q.3 - A man is known to speak truth 2 out of 3 times. \n",
    "He throws a die and reports that number obtained is a four. \n",
    "Find the probability that the number obtained is actually a four.'''"
   ]
  },
  {
   "cell_type": "code",
   "execution_count": 5,
   "metadata": {},
   "outputs": [
    {
     "data": {
      "text/plain": [
       "0.2857142857142857"
      ]
     },
     "execution_count": 5,
     "metadata": {},
     "output_type": "execute_result"
    }
   ],
   "source": [
    "t = 2/3\n",
    "l = 1/3\n",
    "four = 1/6\n",
    "notfour = 5/6\n",
    "prob = (t * four) / (( t* four) + (l * notfour))\n",
    "\n",
    "prob"
   ]
  },
  {
   "cell_type": "code",
   "execution_count": null,
   "metadata": {},
   "outputs": [],
   "source": []
  }
 ],
 "metadata": {
  "kernelspec": {
   "display_name": "Python 3",
   "language": "python",
   "name": "python3"
  },
  "language_info": {
   "codemirror_mode": {
    "name": "ipython",
    "version": 3
   },
   "file_extension": ".py",
   "mimetype": "text/x-python",
   "name": "python",
   "nbconvert_exporter": "python",
   "pygments_lexer": "ipython3",
   "version": "3.6.5"
  }
 },
 "nbformat": 4,
 "nbformat_minor": 2
}
